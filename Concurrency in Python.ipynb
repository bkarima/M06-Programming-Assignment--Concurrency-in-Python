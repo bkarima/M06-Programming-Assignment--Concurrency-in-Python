{
 "cells": [
  {
   "cell_type": "code",
   "execution_count": 1,
   "id": "5e66ab8b",
   "metadata": {},
   "outputs": [
    {
     "name": "stdout",
     "output_type": "stream",
     "text": [
      "Current date '2023-11-28' has been written to today.txt\n"
     ]
    }
   ],
   "source": [
    "# 13.1 Write the current date as a string to the text file today.txt:\n",
    "\n",
    "# Step 1: Import the necessary module\n",
    "from datetime import date\n",
    "\n",
    "# Step 2: Get the current date as a string\n",
    "current_date = str(date.today())\n",
    "\n",
    "# Step 3: Open the file in write mode ('w')\n",
    "with open('today.txt', 'w') as file:\n",
    "\n",
    "    # Step 4: Write the current date to the file\n",
    "    file.write(current_date)\n",
    "\n",
    "# Step 5: Print a message to confirm the operation\n",
    "print(f\"Current date '{current_date}' has been written to today.txt\")"
   ]
  },
  {
   "cell_type": "code",
   "execution_count": 2,
   "id": "5dddd1d0",
   "metadata": {},
   "outputs": [
    {
     "name": "stdout",
     "output_type": "stream",
     "text": [
      "Content of today.txt: 2023-11-28\n"
     ]
    }
   ],
   "source": [
    "# 13.2 Read the text file today.txt into the string today_string:\n",
    "\n",
    "# Step 1: Open the file in read mode ('r')\n",
    "with open('today.txt', 'r') as file:\n",
    "\n",
    "    # Step 2: Read the content of the file into today_string\n",
    "    today_string = file.read()\n",
    "\n",
    "# Step 3: Print the content of today_string\n",
    "print(\"Content of today.txt:\", today_string)"
   ]
  },
  {
   "cell_type": "code",
   "execution_count": 3,
   "id": "616510b5",
   "metadata": {},
   "outputs": [
    {
     "name": "stdout",
     "output_type": "stream",
     "text": [
      "Parsed date: 2023-11-28 00:00:00\n"
     ]
    }
   ],
   "source": [
    "# 13.3 Parse the date from today_string:\n",
    "\n",
    "# Step 1: Import the necessary module\n",
    "from datetime import datetime\n",
    "\n",
    "# Step 2: Parse the date from today_string\n",
    "try:\n",
    "    parsed_date = datetime.strptime(today_string, '%Y-%m-%d')\n",
    "    # Note: Adjust the date format ('%Y-%m-%d') based on the actual format in your today.txt file.\n",
    "    # The format used here is for YYYY-MM-DD.\n",
    "except ValueError:\n",
    "    print(\"Error: Unable to parse the date from today_string.\")\n",
    "\n",
    "# Step 3: Print the parsed date\n",
    "if 'parsed_date' in locals():\n",
    "    print(\"Parsed date:\", parsed_date)"
   ]
  },
  {
   "cell_type": "code",
   "execution_count": 5,
   "id": "83d71a59",
   "metadata": {},
   "outputs": [
    {
     "name": "stdout",
     "output_type": "stream",
     "text": [
      "The date and time is 2023-11-28 20:17:50.399142\n",
      "The date and time is 2023-11-28 20:17:50.412801\n",
      "The date and time is 2023-11-28 20:17:50.812250\n",
      "Finished\n"
     ]
    }
   ],
   "source": [
    "# 15.1 Use multiprocessing to create three separate processes:\n",
    "#Make each one wait a random number of seconds between zero and one, print the current time, and then exit.\n",
    "import multiprocessing as mp\n",
    "import datetime\n",
    "import time\n",
    "import random\n",
    "\n",
    "\n",
    "def print_current_time():\n",
    "    current_time = datetime.datetime.now()\n",
    "    print(\"The date and time is {}\".format(current_time))\n",
    "    time.sleep(random.random())\n",
    "\n",
    "    \n",
    "if __name__ == '__main__':\n",
    "    mp1 = mp.Process(target=print_current_time())\n",
    "    mp2 = mp.Process(target=print_current_time())\n",
    "    mp3 = mp.Process(target=print_current_time())\n",
    "\n",
    "    mp1.start()\n",
    "    mp2.start()\n",
    "    mp3.start()\n",
    "\n",
    "    mp1.join()\n",
    "    mp2.join()\n",
    "    mp3.join()\n",
    "\n",
    "print(\"Finished\")\n",
    "\n",
    "   "
   ]
  },
  {
   "cell_type": "code",
   "execution_count": null,
   "id": "fb292b2c",
   "metadata": {},
   "outputs": [],
   "source": []
  }
 ],
 "metadata": {
  "kernelspec": {
   "display_name": "Python 3 (ipykernel)",
   "language": "python",
   "name": "python3"
  },
  "language_info": {
   "codemirror_mode": {
    "name": "ipython",
    "version": 3
   },
   "file_extension": ".py",
   "mimetype": "text/x-python",
   "name": "python",
   "nbconvert_exporter": "python",
   "pygments_lexer": "ipython3",
   "version": "3.11.5"
  }
 },
 "nbformat": 4,
 "nbformat_minor": 5
}
